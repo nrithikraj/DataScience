{
 "cells": [
  {
   "cell_type": "markdown",
   "id": "0e117134-1285-4d12-9ca2-3ac9667f6050",
   "metadata": {},
   "source": [
    "# Data Science Tools and Ecosystem"
   ]
  },
  {
   "cell_type": "markdown",
   "id": "6617a19b-cc01-4357-8d16-eb44e50c53c9",
   "metadata": {},
   "source": [
    "In this notebook, Data Science Tools and Ecosystem are summarized"
   ]
  },
  {
   "cell_type": "markdown",
   "id": "a704c539-c7f0-4ad3-a574-87af313ed7ec",
   "metadata": {},
   "source": [
    "**Objectives:**\n",
    "* Popular languages for Data Science\n",
    "* Commonly used libraries for Data Science\n",
    "* Widely used tools for Data Science"
   ]
  },
  {
   "cell_type": "markdown",
   "id": "c86e0f12-71bc-4ae8-86e0-82ba9cdb97ab",
   "metadata": {},
   "source": [
    "Some of the popular languages that Data Scientists use are:\n",
    "1. Python\n",
    "2. R\n",
    "3. Java\n",
    "4. SQL"
   ]
  },
  {
   "cell_type": "markdown",
   "id": "4033f084-2d43-403c-a443-686be2b4607d",
   "metadata": {},
   "source": [
    "Some of the commonly used libraries used by Data Scientists include:\n",
    "1. Pandas\n",
    "2. NumPy\n",
    "3. Seaborn\n",
    "4. Matplotlib\n",
    "   "
   ]
  },
  {
   "cell_type": "markdown",
   "id": "81ae7a9b-7eba-4826-a8c6-ee31a3e9395e",
   "metadata": {},
   "source": [
    "| Data Science Tools  | \n",
    "|---------------------|\n",
    "|Jupyter Notebook     |\n",
    "|VS Code              |\n",
    "|RStudio              |"
   ]
  },
  {
   "cell_type": "markdown",
   "id": "b38fc4f7-ca3a-476f-bfe3-cd3c3ab72461",
   "metadata": {},
   "source": [
    "### Below are a few examples of evaluating arithmetic expressions in Python"
   ]
  },
  {
   "cell_type": "code",
   "execution_count": 15,
   "id": "b731c741-f462-48bf-bc48-0c91cd832435",
   "metadata": {},
   "outputs": [
    {
     "data": {
      "text/plain": [
       "17"
      ]
     },
     "execution_count": 15,
     "metadata": {},
     "output_type": "execute_result"
    }
   ],
   "source": [
    "# This a simple arithmetic expression to mutiply then add integer \n",
    "(3*4)+5"
   ]
  },
  {
   "cell_type": "code",
   "execution_count": 23,
   "id": "cba3bf58-b641-4ca9-b261-641380e1df33",
   "metadata": {},
   "outputs": [
    {
     "data": {
      "text/plain": [
       "3.3333333333333335"
      ]
     },
     "execution_count": 23,
     "metadata": {},
     "output_type": "execute_result"
    }
   ],
   "source": [
    "# This will convert 200 minutes to hours by diving by 60\n",
    "200 / 60"
   ]
  },
  {
   "cell_type": "markdown",
   "id": "fa75497c-530b-4323-bb36-2d34357a17d7",
   "metadata": {},
   "source": [
    "** Author\n",
    "N Rithik Raj"
   ]
  },
  {
   "cell_type": "code",
   "execution_count": null,
   "id": "54ec4ac3-e8b6-4013-997b-a9dfaa992488",
   "metadata": {},
   "outputs": [],
   "source": []
  }
 ],
 "metadata": {
  "kernelspec": {
   "display_name": "Python [conda env:base] *",
   "language": "python",
   "name": "conda-base-py"
  },
  "language_info": {
   "codemirror_mode": {
    "name": "ipython",
    "version": 3
   },
   "file_extension": ".py",
   "mimetype": "text/x-python",
   "name": "python",
   "nbconvert_exporter": "python",
   "pygments_lexer": "ipython3",
   "version": "3.12.7"
  }
 },
 "nbformat": 4,
 "nbformat_minor": 5
}
